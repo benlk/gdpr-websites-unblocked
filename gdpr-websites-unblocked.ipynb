{
 "cells": [
  {
   "cell_type": "markdown",
   "metadata": {},
   "source": [
    "VerifiedJoseph's \"[Websites not available in the European Union after GDPR](https://data.verifiedjoseph.com/dataset/websites-not-available-eu-gdpr)\" page tracks sites that used to be blocked in GDPR jurisdictions, but are no longer.\n",
    "\n",
    "The site also provides the option to download the up-to-date copy of the database as a CSV, so let's download that."
   ]
  },
  {
   "cell_type": "code",
   "execution_count": 5,
   "metadata": {},
   "outputs": [],
   "source": [
    "import pandas as pd, numpy as np, matplotlib"
   ]
  },
  {
   "cell_type": "code",
   "execution_count": 6,
   "metadata": {},
   "outputs": [],
   "source": [
    "%matplotlib inline"
   ]
  },
  {
   "cell_type": "code",
   "execution_count": 29,
   "metadata": {},
   "outputs": [],
   "source": [
    "sites = pd.read_csv(\"https://data.verifiedjoseph.com/download/websites-not-available-eu-gdpr.csv\", infer_datetime_format=True, parse_dates=True)\n"
   ]
  },
  {
   "cell_type": "code",
   "execution_count": 30,
   "metadata": {},
   "outputs": [
    {
     "data": {
      "text/plain": [
       "Index([u'Name', u'Date Unblocked', u'Website', u'Archived Block Message[0]',\n",
       "       u'Archived Block Message[1]', u'Block Message Screenshot',\n",
       "       u'Website Archives[0]', u'Website Archives[1]'],\n",
       "      dtype='object')"
      ]
     },
     "execution_count": 30,
     "metadata": {},
     "output_type": "execute_result"
    }
   ],
   "source": [
    "sites.columns"
   ]
  },
  {
   "cell_type": "markdown",
   "metadata": {},
   "source": [
    "In this dataset, sites that haven't been unblocked have no entry in the `u'Date Unblocked'` column, which Pandas displays to the reader as `NaN` but which are stored internally as (I think) `numpy.na`. This is missing data.\n",
    "\n",
    "Pandas has a method to remove rows containing missing values: [`dropna`](https://pandas.pydata.org/pandas-docs/stable/generated/pandas.DataFrame.dropna.html#pandas.DataFrame.sort_values). Here, I use it to drop all rows (\"sites\") that have a NA value for the date when the site was unblocked. What's left are sites that have been unblocked."
   ]
  },
  {
   "cell_type": "code",
   "execution_count": 31,
   "metadata": {},
   "outputs": [],
   "source": [
    "unblocked = sites.dropna(subset=[u'Date Unblocked'])"
   ]
  },
  {
   "cell_type": "markdown",
   "metadata": {},
   "source": [
    "Here's a quick preview of dates when sites have been unblocked:"
   ]
  },
  {
   "cell_type": "code",
   "execution_count": 32,
   "metadata": {},
   "outputs": [
    {
     "data": {
      "text/plain": [
       "2018-08-27    48\n",
       "2018-08-21    28\n",
       "2018-08-23    23\n",
       "2018-08-20    14\n",
       "2018-08-22     9\n",
       "2018-08-13     6\n",
       "2018-08-09     3\n",
       "2018-07-28     2\n",
       "2018-08-29     2\n",
       "2018-08-07     2\n",
       "2018-08-30     1\n",
       "2018-08-14     1\n",
       "2018-07-30     1\n",
       "2018-08-03     1\n",
       "2018-06-26     1\n",
       "2018-08-06     1\n",
       "2018-08-15     1\n",
       "2018-08-08     1\n",
       "2018-08-24     1\n",
       "Name: Date Unblocked, dtype: int64"
      ]
     },
     "execution_count": 32,
     "metadata": {},
     "output_type": "execute_result"
    }
   ],
   "source": [
    "unblocked[u'Date Unblocked'].value_counts()"
   ]
  },
  {
   "cell_type": "code",
   "execution_count": 33,
   "metadata": {},
   "outputs": [
    {
     "data": {
      "text/plain": [
       "<matplotlib.axes._subplots.AxesSubplot at 0x1170bd450>"
      ]
     },
     "execution_count": 33,
     "metadata": {},
     "output_type": "execute_result"
    },
    {
     "data": {
      "image/png": "[encoded data removed]",
      "text/plain": [
       "<Figure size 432x288 with 1 Axes>"
      ]
     },
     "metadata": {
      "needs_background": "light"
     },
     "output_type": "display_data"
    }
   ],
   "source": [
    "days = unblocked.groupby( [u'Date Unblocked'] )\n",
    "days = days.size()\n",
    "days = days.to_frame()\n",
    "days.plot.bar()"
   ]
  },
  {
   "cell_type": "code",
   "execution_count": 34,
   "metadata": {},
   "outputs": [
    {
     "data": {
      "image/png": "[encoded data removed]",
      "text/plain": [
       "<Figure size 432x288 with 1 Axes>"
      ]
     },
     "metadata": {
      "needs_background": "light"
     },
     "output_type": "display_data"
    }
   ],
   "source": [
    "plot = days.plot.bar()"
   ]
  },
  {
   "cell_type": "code",
   "execution_count": null,
   "metadata": {},
   "outputs": [],
   "source": []
  },
  {
   "cell_type": "code",
   "execution_count": 28,
   "metadata": {},
   "outputs": [],
   "source": []
  },
  {
   "cell_type": "code",
   "execution_count": null,
   "metadata": {},
   "outputs": [],
   "source": []
  }
 ],
 "metadata": {
  "kernelspec": {
   "display_name": "Python 2",
   "language": "python",
   "name": "python2"
  },
  "language_info": {
   "codemirror_mode": {
    "name": "ipython",
    "version": 2
   },
   "file_extension": ".py",
   "mimetype": "text/x-python",
   "name": "python",
   "nbconvert_exporter": "python",
   "pygments_lexer": "ipython2",
   "version": "2.7.15"
  }
 },
 "nbformat": 4,
 "nbformat_minor": 2
}
